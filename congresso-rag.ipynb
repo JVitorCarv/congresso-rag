{
 "cells": [
  {
   "cell_type": "markdown",
   "id": "60e188a8",
   "metadata": {},
   "source": [
    "# Congresso RAG"
   ]
  },
  {
   "cell_type": "markdown",
   "id": "73a87e54",
   "metadata": {},
   "source": [
    "## Installing packages"
   ]
  },
  {
   "cell_type": "code",
   "execution_count": null,
   "id": "f9ec8bbb",
   "metadata": {},
   "outputs": [
    {
     "name": "stdout",
     "output_type": "stream",
     "text": [
      "Note: you may need to restart the kernel to use updated packages.\n"
     ]
    }
   ],
   "source": [
    "%pip install -qU langchain-community langchain-openai langchain-core pypdf openai"
   ]
  },
  {
   "cell_type": "markdown",
   "id": "08c56468",
   "metadata": {},
   "source": [
    "## Importing packages"
   ]
  },
  {
   "cell_type": "code",
   "execution_count": 2,
   "id": "51d6b74b",
   "metadata": {},
   "outputs": [],
   "source": [
    "from langchain_core.documents import Document\n",
    "from langchain_community.document_loaders import PyPDFLoader\n",
    "from langchain_text_splitters import RecursiveCharacterTextSplitter\n",
    "from langchain_openai import OpenAIEmbeddings\n",
    "from langchain_core.vectorstores import InMemoryVectorStore"
   ]
  },
  {
   "cell_type": "markdown",
   "id": "e67d26ca",
   "metadata": {},
   "source": [
    "## Loading and Splitting Documents"
   ]
  },
  {
   "cell_type": "code",
   "execution_count": 3,
   "id": "0f213ad9",
   "metadata": {},
   "outputs": [
    {
     "name": "stdout",
     "output_type": "stream",
     "text": [
      "113\n"
     ]
    },
    {
     "data": {
      "text/plain": [
       "358"
      ]
     },
     "execution_count": 3,
     "metadata": {},
     "output_type": "execute_result"
    }
   ],
   "source": [
    "file_path = \"./diario-da-camara-dos-deputados-01-05-2025.pdf\"\n",
    "loader = PyPDFLoader(file_path)\n",
    "\n",
    "docs = loader.load()\n",
    "\n",
    "print(len(docs))\n",
    "\n",
    "text_splitter = RecursiveCharacterTextSplitter(\n",
    "    chunk_size=1000, chunk_overlap=200, add_start_index=True\n",
    ")\n",
    "all_splits = text_splitter.split_documents(docs)\n",
    "\n",
    "len(all_splits)"
   ]
  },
  {
   "cell_type": "markdown",
   "id": "9b036239",
   "metadata": {},
   "source": [
    "## Embeddings"
   ]
  },
  {
   "cell_type": "code",
   "execution_count": null,
   "id": "a53ad16b",
   "metadata": {},
   "outputs": [
    {
     "name": "stdout",
     "output_type": "stream",
     "text": [
      "358\n",
      "[0.054630666971206665, 0.005369423422962427, 0.003710131859406829, 0.016308151185512543, 0.011532897129654884, 0.03493821620941162, 0.003159772837534547, 0.0106293223798275, -0.05432399734854698, -0.04779635742306709]\n"
     ]
    }
   ],
   "source": [
    "embeddings = OpenAIEmbeddings(model=\"text-embedding-3-small\")\n",
    "\n",
    "vectors = [\n",
    "    embeddings.embed_query(split.page_content) \n",
    "    for split in all_splits\n",
    "]\n",
    "\n",
    "vectors = []\n",
    "for index, split in enumerate(all_splits):\n",
    "    print(f\"embedding split {index}/{len(all_splits)}...\")\n",
    "    vector = embeddings.embed_query(split.page_content) \n",
    "    vectors.append(vector)\n",
    "\n",
    "print(len(vectors))\n",
    "print(vectors[0][:10])"
   ]
  },
  {
   "cell_type": "markdown",
   "id": "bb4a04f5",
   "metadata": {},
   "source": [
    "## Vector Store"
   ]
  },
  {
   "cell_type": "code",
   "execution_count": 10,
   "id": "b2229b6c",
   "metadata": {},
   "outputs": [],
   "source": [
    "vector_store = InMemoryVectorStore(embeddings)\n",
    "\n",
    "ids = vector_store.add_documents(documents=all_splits)"
   ]
  },
  {
   "cell_type": "markdown",
   "id": "82dce2f9",
   "metadata": {},
   "source": [
    "### Querying"
   ]
  },
  {
   "cell_type": "code",
   "execution_count": null,
   "id": "e570bdb8",
   "metadata": {},
   "outputs": [
    {
     "name": "stdout",
     "output_type": "stream",
     "text": [
      "page_content='Amom Mandel  Andreia Siqueira  \n",
      "Aureo Ribeiro  Clarissa Tércio  \n",
      "Bruno Farias  Danilo Forte  \n",
      "Daniela Reinehr  Erika Kokay  \n",
      "Dayany Bittencourt  Felipe Becari  \n",
      "Dr. Francisco  Flávia Morais  \n",
      "Duarte Jr. Geraldo Resende \n",
      "Márcio Honaiser  Gilberto Nascimento  \n",
      "Márcio Jerry  Glaustin da Fokus  \n",
      "Maria Rosas  Katia Dias  \n",
      "Max Lemosvaga do Fdr PSOL-REDE Marcio Alvino  \n",
      "Paulo Alexandre Barbosa  Miguel Lombardi  \n",
      "Paulo Freire Costa  Rodrigo da Zaeli  \n",
      "Pedro Campos  Rubens Otoni  \n",
      "Sargento Portugal  Silvia Cristina  \n",
      "Thiago Flores  Sonize Barbosa  \n",
      "Weliton Prado  Soraya Santos  \n",
      "Zé Haroldo Cathedral  2 vagas  \n",
      "2 vagas   \n",
      "Fdr PSOL-REDE  \n",
      "(Dep. do PDT ocupa a vaga)  Talíria Petrone  \n",
      " \n",
      "Secretário(a): Raquel Ferreira de Carvalho Aldigueri  \n",
      "Local: Anexo II, Térreo, Ala A, sala 5 \n",
      "Telefones: 3216-6971 a 76 \n",
      " \n",
      "COMISSÃO DE DESENVOLVIMENTO ECONÔMICO  \n",
      "Presidente: Lafayette de Andrada (REPUBLICANOS) \n",
      "1º Vice-Presidente: \n",
      "2º Vice-Presidente: \n",
      "3º Vice-Presidente: \n",
      " \n",
      "Titulares Suplentes \n",
      "PL/Fdr PT-PCdoB-' metadata={'producer': 'Adobe Acrobat Pro (64-bit) 25 Paper Capture Plug-in', 'creator': 'LaTeX with hyperref package', 'creationdate': '2025-04-08T19:04:05-03:00', 'author': 'Câmara dos Deputados - Secretaria-Geral da Mesa', 'keywords': '', 'moddate': '2025-04-08T19:43:22-03:00', 'ptex.fullbanner': 'This is LuaTeX, Version 1.0.4 (MiKTeX 2.9.6300 64-bit)', 'subject': '', 'title': 'Diário da Câmara dos Deputados de 01/04/2025', 'trapped': '/False', 'source': './diario-da-camara-dos-deputados-01-05-2025.pdf', 'total_pages': 113, 'page': 89, 'page_label': '90', 'start_index': 0}\n",
      "page_content='requerimentos de convocação e de convite do Ministro da Justiça e Segurança Pública, Sr. Ricardo \n",
      "Lewandowski: ITEM 13 - REQUERIMENTO Nº 13/2025 - do Sr. Coronel Chrisóstomo - que \"requer \n",
      "a convocação do Ministro da Justiça e Segurança Pública, sr. Ricardo Lewandowski, para prestar \n",
      "esclarecimento sobre sua declaração “a polícia prende mal e o Judiciário é obrigado a soltar”, \n",
      "especialmente se é opinião pessoal ou institucional, além do dever de apresentar dados \n",
      "concretos sobre a alegação\". Em votação em globo, o requerimento foi aprovado, com alteração \n",
      "de convocação para convite . ITEM 18 - REQUERIMENTO Nº 18/2025 - do Sr. Sanderson - que \n",
      "\"requer a convocação do Ministro da Justiça e Segurança Pública, Sr. Ricardo Lewandowski, para \n",
      "prestar esclarecimentos sobre sua declaração de que a polícia executa prisões de forma \n",
      "equivocada e que, por isso, o Judiciário seria obrigado a soltar os presos\". Em votação em globo,' metadata={'producer': 'Adobe Acrobat Pro (64-bit) 25 Paper Capture Plug-in', 'creator': 'LaTeX with hyperref package', 'creationdate': '2025-04-08T19:04:05-03:00', 'author': 'Câmara dos Deputados - Secretaria-Geral da Mesa', 'keywords': '', 'moddate': '2025-04-08T19:43:22-03:00', 'ptex.fullbanner': 'This is LuaTeX, Version 1.0.4 (MiKTeX 2.9.6300 64-bit)', 'subject': '', 'title': 'Diário da Câmara dos Deputados de 01/04/2025', 'trapped': '/False', 'source': './diario-da-camara-dos-deputados-01-05-2025.pdf', 'total_pages': 113, 'page': 55, 'page_label': '56', 'start_index': 725}\n",
      "page_content='REQUERIMENTO Nº 2/2025 - do Sr. Alberto Fraga - que \"requer Voto Louvor e de Pesar em face \n",
      "de ato heroico, seguido de falecimento em decorrência deste, ao 2º Sargento PMDF Adriano \n",
      "Damásio Lopes, quando de atuação para salvar vítimas de um incêndio\". Em votação em globo, \n",
      "o requerimento foi aprovado. ITEM 03 - REQUERIMENTO Nº 3/2025 - do Sr. Coronel Ulysses - \n",
      "que \"requer a realização de audiência pú blica com o tema: “a importância do porte de arma de \n",
      "fogo para vigilantes fora do serviço”\". Em votação em globo, o requerimento foi aprovado, com \n",
      "subscrição do deputado Delegado da Cunha. ITEM 04 - REQUERIMENTO Nº 4/2025  - do Sr. \n",
      "Sargento Portugal - que \"requer a realização de visita técnica às penitenciárias federais da \n",
      "Papuda (DF) e de Catanduvas (PR)\". Em votação em globo, o requerimento foi aprovado, com \n",
      "subscrição do deputado Delegado da Cunha . ITEM 05- REQUERIMENTO Nº 5/2025 -  do Sr.' metadata={'producer': 'Adobe Acrobat Pro (64-bit) 25 Paper Capture Plug-in', 'creator': 'LaTeX with hyperref package', 'creationdate': '2025-04-08T19:04:05-03:00', 'author': 'Câmara dos Deputados - Secretaria-Geral da Mesa', 'keywords': '', 'moddate': '2025-04-08T19:43:22-03:00', 'ptex.fullbanner': 'This is LuaTeX, Version 1.0.4 (MiKTeX 2.9.6300 64-bit)', 'subject': '', 'title': 'Diário da Câmara dos Deputados de 01/04/2025', 'trapped': '/False', 'source': './diario-da-camara-dos-deputados-01-05-2025.pdf', 'total_pages': 113, 'page': 51, 'page_label': '52', 'start_index': 1481}\n"
     ]
    }
   ],
   "source": [
    "query = \"O que é a FRENID?\"\n",
    "\n",
    "results = vector_store.similarity_search(query)\n",
    "\n",
    "for result in results:\n",
    "    print(result)"
   ]
  },
  {
   "cell_type": "markdown",
   "id": "37781924",
   "metadata": {},
   "source": [
    "## Response "
   ]
  },
  {
   "cell_type": "code",
   "execution_count": 24,
   "id": "83524958",
   "metadata": {},
   "outputs": [
    {
     "name": "stdout",
     "output_type": "stream",
     "text": [
      "Não foi encontrado no contexto qualquer requerimento feito por Amom Mandel.\n"
     ]
    }
   ],
   "source": [
    "from openai import OpenAI\n",
    "\n",
    "client = OpenAI()\n",
    "\n",
    "with open(\"instructions.txt\", \"r\", encoding=\"utf-8\") as f:\n",
    "    instructions = f.read()\n",
    "\n",
    "try: \n",
    "    res = client.responses.create(\n",
    "        model=\"gpt-4.1-nano\",\n",
    "        instructions=instructions,\n",
    "        input=(\n",
    "            f\"Contexto: {results}; \"\n",
    "            f\"Pergunta: {query}\"\n",
    "        )\n",
    "    )\n",
    "    print(res.output_text)\n",
    "except Exception as e:\n",
    "    print(f\"An exception occured: {e}\")"
   ]
  }
 ],
 "metadata": {
  "kernelspec": {
   "display_name": ".venv",
   "language": "python",
   "name": "python3"
  },
  "language_info": {
   "codemirror_mode": {
    "name": "ipython",
    "version": 3
   },
   "file_extension": ".py",
   "mimetype": "text/x-python",
   "name": "python",
   "nbconvert_exporter": "python",
   "pygments_lexer": "ipython3",
   "version": "3.10.12"
  }
 },
 "nbformat": 4,
 "nbformat_minor": 5
}
